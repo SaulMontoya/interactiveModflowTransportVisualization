{
 "cells": [
  {
   "cell_type": "code",
   "execution_count": 1,
   "metadata": {},
   "outputs": [],
   "source": [
    "import flopy, os\n",
    "import numpy as np\n",
    "import ipywidgets as widgets\n",
    "from IPython.display import display\n",
    "import matplotlib.pyplot as plt"
   ]
  },
  {
   "cell_type": "code",
   "execution_count": 2,
   "metadata": {},
   "outputs": [],
   "source": [
    "# SET FOLDERS\n",
    "path = os.path.dirname(os.getcwd())\n",
    "path_model      = (os.path.join(path,\"model\"))\n",
    "path_safefig    = (os.path.join(path,\"fig\"))\n",
    "\n",
    "# CHECK IF FOLDER EXIST / IF NOT MAKE FOLDER\n",
    "if not os.path.isdir(path_safefig):\n",
    "    os.makedirs(path_safefig)"
   ]
  },
  {
   "cell_type": "code",
   "execution_count": 3,
   "metadata": {},
   "outputs": [],
   "source": [
    "#get nam list\n",
    "namList = [x[:-4] for x in os.listdir(path_model) if x[-4:]=='.nam']\n",
    "\n",
    "#get ucn list\n",
    "ucnList = [x[:-4] for x in os.listdir(path_model) if x[-4:]=='.ucn']"
   ]
  },
  {
   "cell_type": "code",
   "execution_count": 4,
   "metadata": {},
   "outputs": [
    {
     "data": {
      "application/vnd.jupyter.widget-view+json": {
       "model_id": "c931cdac6ad74c879f14bbd3d3a019a4",
       "version_major": 2,
       "version_minor": 0
      },
      "text/plain": [
       "HBox(children=(Dropdown(description='Nam file:', layout=Layout(width='20%'), options=('Model1',), value='Model…"
      ]
     },
     "metadata": {},
     "output_type": "display_data"
    },
    {
     "data": {
      "application/vnd.jupyter.widget-view+json": {
       "model_id": "d199306e16f440fa84c84ad000d6c08b",
       "version_major": 2,
       "version_minor": 0
      },
      "text/plain": [
       "Output()"
      ]
     },
     "metadata": {},
     "output_type": "display_data"
    }
   ],
   "source": [
    "#nam dropdown widget\n",
    "namDrop = widgets.Dropdown(\n",
    "    options=namList,\n",
    "    value=namList[0],\n",
    "    description='Nam file:',\n",
    "    disabled=False,\n",
    "    layout=widgets.Layout(width='20%')\n",
    ")\n",
    "\n",
    "#ucn dropdown widget\n",
    "ucnDrop = widgets.Dropdown(\n",
    "    options=ucnList,\n",
    "    value=ucnList[0],\n",
    "    description='Conc file:',\n",
    "    disabled=False,\n",
    "    layout=widgets.Layout(width='20%')\n",
    ")\n",
    "\n",
    "#enable to load saved times\n",
    "timeBot = widgets.Button(\n",
    "    description='Load times:',\n",
    "    disabled=False,\n",
    "    button_style='success', # 'success', 'info', 'warning', 'danger' or ''\n",
    "    tooltip='Show available times',\n",
    ")\n",
    "\n",
    "#times dropdown widget\n",
    "timeDrop = widgets.Dropdown(\n",
    "    options=[0],\n",
    "    value=0, #ucnList[0],\n",
    "    description='Times:',\n",
    "    disabled=False,\n",
    "    layout=widgets.Layout(width='20%')\n",
    ")\n",
    "\n",
    "#plot widget\n",
    "plotBot = widgets.Button(\n",
    "    description='Plot conc.',\n",
    "    disabled=True,\n",
    "    button_style='success', # 'success', 'info', 'warning', 'danger' or ''\n",
    "    tooltip='Plot concentrations at specified layer',\n",
    ")\n",
    "\n",
    "#save widget\n",
    "saveBot = widgets.Button(\n",
    "    description='Save plot',\n",
    "    disabled=True,\n",
    "    button_style='success', # 'success', 'info', 'warning', 'danger' or ''\n",
    "    tooltip='Save concentration plot',\n",
    ")\n",
    "\n",
    "#plot function\n",
    "def showLayConc(namFile,ucnFile,timeDrop):\n",
    "    with out:\n",
    "        out.clear_output()\n",
    "        m = flopy.modflow.mf.Modflow.load('../model/'+namFile+'.nam',version='mfnwt')\n",
    "        fig, ax = plt.subplots(figsize=(12,8))\n",
    "        #modelmap = m.modelgrid.plot(ax=ax)\n",
    "        modelmap = flopy.plot.PlotMapView(m,ax=ax)\n",
    "        ucnFile = flopy.utils.binaryfile.UcnFile('../model/'+ucnFile+'.ucn')\n",
    "        concArray = ucnFile.get_data(totim=timeDrop)\n",
    "        concArray[concArray == -1.e+30] = np.nan\n",
    "        modelmap.plot_array(concArray)\n",
    "        plt.show()\n",
    "        \n",
    "#save plot\n",
    "def saveLayConc(namFile,ucnFile,timeDrop):\n",
    "    with out:\n",
    "        out.clear_output()\n",
    "        m = flopy.modflow.mf.Modflow.load('../model/'+namFile+'.nam',version='mfnwt')\n",
    "        fig, ax = plt.subplots(figsize=(12,8))\n",
    "        #modelmap = m.modelgrid.plot(ax=ax)\n",
    "        fig.patch.set_facecolor('white')\n",
    "        modelmap = flopy.plot.PlotMapView(m,ax=ax)\n",
    "        ucnFile = flopy.utils.binaryfile.UcnFile('../model/'+ucnFile+'.ucn')\n",
    "        concArray = ucnFile.get_data(totim=timeDrop)\n",
    "        concArray[concArray == -1.e+30] = np.nan\n",
    "        modelmap.plot_array(concArray)\n",
    "        figname = str(namFile)+'_conc_'+str(timeDrop)+'.png'\n",
    "        plt.savefig(os.path.join(path_safefig, figname), dpi=300,  transparent=False)\n",
    "        plt.show()\n",
    "    \n",
    "def listTimes(ucnFile):\n",
    "    ucnFile = flopy.utils.binaryfile.UcnFile('../model/'+ucnFile+'.ucn')\n",
    "    return ucnFile.get_times()\n",
    "\n",
    "#on click function times\n",
    "def timesButtonClicked(b):\n",
    "    timeDrop.options = listTimes(ucnDrop.value)\n",
    "    plotBot.disabled = False\n",
    "    saveBot.disabled = False\n",
    "    timeBot.disabled = True\n",
    "    timeBot.button_style = ''\n",
    "\n",
    "#on click function plot\n",
    "def plotButtonClicked(b):\n",
    "    showLayConc(namDrop.value,ucnDrop.value,timeDrop.value)\n",
    "    #plotBot.disabled = True\n",
    "    \n",
    "    #on click function save\n",
    "def saveButtonClicked(b):\n",
    "    saveLayConc(namDrop.value,ucnDrop.value,timeDrop.value)\n",
    "    #plotBot.disabled = True\n",
    "\n",
    "\n",
    "plotBot.on_click(plotButtonClicked)\n",
    "\n",
    "timeBot.on_click(timesButtonClicked)\n",
    "\n",
    "saveBot.on_click(saveButtonClicked)\n",
    "\n",
    "display(widgets.HBox([namDrop, ucnDrop, timeBot, timeDrop, plotBot, saveBot]))\n",
    "\n",
    "out = widgets.Output()\n",
    "display(out)"
   ]
  },
  {
   "cell_type": "code",
   "execution_count": null,
   "metadata": {},
   "outputs": [],
   "source": []
  }
 ],
 "metadata": {
  "kernelspec": {
   "display_name": "Python 3",
   "language": "python",
   "name": "python3"
  },
  "language_info": {
   "codemirror_mode": {
    "name": "ipython",
    "version": 3
   },
   "file_extension": ".py",
   "mimetype": "text/x-python",
   "name": "python",
   "nbconvert_exporter": "python",
   "pygments_lexer": "ipython3",
   "version": "3.8.5"
  }
 },
 "nbformat": 4,
 "nbformat_minor": 4
}
