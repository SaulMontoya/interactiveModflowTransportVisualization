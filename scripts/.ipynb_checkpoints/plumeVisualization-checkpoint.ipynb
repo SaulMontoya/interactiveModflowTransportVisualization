{
 "cells": [
  {
   "cell_type": "code",
   "execution_count": 1,
   "metadata": {},
   "outputs": [],
   "source": [
    "import flopy, os\n",
    "import numpy as np\n",
    "import ipywidgets as widgets\n",
    "from IPython.display import display\n",
    "import matplotlib.pyplot as plt"
   ]
  },
  {
   "cell_type": "code",
   "execution_count": 2,
   "metadata": {},
   "outputs": [],
   "source": [
    "#get nam list\n",
    "namList = [x[:-4] for x in os.listdir('../model') if x[-4:]=='.nam']\n",
    "\n",
    "#get ucn list\n",
    "ucnList = [x[:-4] for x in os.listdir('../model') if x[-4:]=='.ucn']\n"
   ]
  },
  {
   "cell_type": "code",
   "execution_count": 31,
   "metadata": {},
   "outputs": [
    {
     "data": {
      "application/vnd.jupyter.widget-view+json": {
       "model_id": "3b7fab1851db412081ac7330c0c374a8",
       "version_major": 2,
       "version_minor": 0
      },
      "text/plain": [
       "HBox(children=(Dropdown(description='Nam file:', layout=Layout(width='20%'), options=('Model1',), value='Model…"
      ]
     },
     "metadata": {},
     "output_type": "display_data"
    },
    {
     "data": {
      "application/vnd.jupyter.widget-view+json": {
       "model_id": "a84aeb8830324c2fa0c6613f1e45e317",
       "version_major": 2,
       "version_minor": 0
      },
      "text/plain": [
       "Output()"
      ]
     },
     "metadata": {},
     "output_type": "display_data"
    }
   ],
   "source": [
    "#get times of ucn\n",
    "#timeList\n",
    "\n",
    "#nam dropdown widget\n",
    "namDrop = widgets.Dropdown(\n",
    "    options=namList,\n",
    "    value=namList[0],\n",
    "    description='Nam file:',\n",
    "    disabled=False,\n",
    "    layout=widgets.Layout(width='20%')\n",
    ")\n",
    "\n",
    "#nam dropdown widget\n",
    "ucnDrop = widgets.Dropdown(\n",
    "    options=ucnList,\n",
    "    value=ucnList[0],\n",
    "    description='Conc file:',\n",
    "    disabled=False,\n",
    "    layout=widgets.Layout(width='20%')\n",
    ")\n",
    "\n",
    "#times dropdown widget\n",
    "timeBot = widgets.Button(\n",
    "    description='Show times:',\n",
    "    disabled=False,\n",
    "    button_style='success', # 'success', 'info', 'warning', 'danger' or ''\n",
    "    tooltip='Show available times',\n",
    ")\n",
    "\n",
    "#times dropdown widget\n",
    "timeDrop = widgets.Dropdown(\n",
    "    options=[0],\n",
    "    value=0, #ucnList[0],\n",
    "    description='Times:',\n",
    "    disabled=False,\n",
    "    layout=widgets.Layout(width='20%')\n",
    ")\n",
    "\n",
    "#plot widget\n",
    "plotBot = widgets.Button(\n",
    "    description='Plot conc.',\n",
    "    disabled=True,\n",
    "    button_style='success', # 'success', 'info', 'warning', 'danger' or ''\n",
    "    tooltip='Plot concentrations at specified layer',\n",
    ")\n",
    "\n",
    "#plot function\n",
    "def showLayConc(namFile,ucnFile,timeDrop):\n",
    "    with out:\n",
    "        out.clear_output()\n",
    "        m = flopy.modflow.mf.Modflow.load('../model/'+namFile+'.nam',version='mfnwt')\n",
    "        fig, ax = plt.subplots(figsize=(12,8))\n",
    "        #modelmap = m.modelgrid.plot(ax=ax)\n",
    "        modelmap = flopy.plot.PlotMapView(m,ax=ax)\n",
    "        ucnFile = flopy.utils.binaryfile.UcnFile('../model/'+ucnFile+'.ucn')\n",
    "        concArray = ucnFile.get_data(totim=timeDrop)\n",
    "        concArray[concArray == -1.e+30] = np.nan\n",
    "        modelmap.plot_array(concArray)\n",
    "        plt.show()\n",
    "    \n",
    "def listTimes(ucnFile):\n",
    "    ucnFile = flopy.utils.binaryfile.UcnFile('../model/'+ucnFile+'.ucn')\n",
    "    return ucnFile.get_times()\n",
    "\n",
    "\n",
    "#on click function\n",
    "def plotButtonClicked(b):\n",
    "    showLayConc(namDrop.value,ucnDrop.value,timeDrop.value)\n",
    "    #plotBot.disabled = True\n",
    "    \n",
    "#on click function\n",
    "def timesButtonClicked(b):\n",
    "    timeDrop.options = listTimes(ucnDrop.value)\n",
    "    plotBot.disabled = False\n",
    "    timeBot.disabled = True\n",
    "    timeBot.button_style = ''\n",
    "\n",
    "\n",
    "plotBot.on_click(plotButtonClicked)\n",
    "\n",
    "timeBot.on_click(timesButtonClicked)\n",
    "\n",
    "display(widgets.HBox([namDrop, ucnDrop, timeBot, timeDrop, plotBot]))\n",
    "\n",
    "out = widgets.Output()\n",
    "display(out)\n"
   ]
  },
  {
   "cell_type": "code",
   "execution_count": null,
   "metadata": {},
   "outputs": [],
   "source": []
  }
 ],
 "metadata": {
  "kernelspec": {
   "display_name": "Python 3",
   "language": "python",
   "name": "python3"
  },
  "language_info": {
   "codemirror_mode": {
    "name": "ipython",
    "version": 3
   },
   "file_extension": ".py",
   "mimetype": "text/x-python",
   "name": "python",
   "nbconvert_exporter": "python",
   "pygments_lexer": "ipython3",
   "version": "3.8.6"
  }
 },
 "nbformat": 4,
 "nbformat_minor": 4
}
